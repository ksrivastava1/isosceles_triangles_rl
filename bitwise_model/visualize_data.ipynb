{
 "cells": [
  {
   "cell_type": "code",
   "execution_count": 72,
   "metadata": {},
   "outputs": [],
   "source": [
    "import numpy as np\n",
    "import matplotlib.pyplot as plt\n",
    "import seaborn as sns\n",
    "from collections import Counter\n",
    "import itertools\n",
    "import os\n",
    "from itertools import combinations\n",
    "import math"
   ]
  },
  {
   "cell_type": "code",
   "execution_count": 80,
   "metadata": {},
   "outputs": [],
   "source": [
    "def is_isosceles(matrix):\n",
    "    ones = np.argwhere(matrix == 1)\n",
    "    for comb in itertools.combinations(ones, 3):\n",
    "        comb = np.array(comb)\n",
    "        distances = np.sqrt(np.sum((comb - comb[:, np.newaxis])**2, axis=-1))\n",
    "        if np.allclose(distances[0], distances[1]) or np.allclose(distances[1], distances[2]) or np.allclose(distances[0], distances[2]):\n",
    "            # Remove the smallest number of points required to make the triangle non-isosceles\n",
    "            for i in range(3):\n",
    "                if np.allclose(distances[i], distances[(i+1)%3]):\n",
    "                    # remove point i\n",
    "                    matrix[tuple(comb[i])] = 0\n",
    "                    return True, matrix\n",
    "    return False, matrix\n"
   ]
  },
  {
   "cell_type": "code",
   "execution_count": 81,
   "metadata": {},
   "outputs": [],
   "source": [
    "\n",
    "def plot_board(matrix):\n",
    "\n",
    "    n = len(matrix)\n",
    "    data = np.zeros((n,n))\n",
    "    for i in range(n):\n",
    "        for j in range(n):\n",
    "            if matrix[i][j] == 1:\n",
    "                data[i][j] = 1\n",
    "    sns.set_style(\"whitegrid\", {'axes.grid': False})\n",
    "    sns.heatmap(data, cmap='Oranges', square=True, cbar=False, linewidth=1,\n",
    "                linecolor='gray', annot=False, fmt='g')\n",
    "\n"
   ]
  },
  {
   "cell_type": "code",
   "execution_count": 94,
   "metadata": {},
   "outputs": [
    {
     "data": {
      "image/png": "[encoded data removed]",
      "text/plain": [
       "<Figure size 640x480 with 1 Axes>"
      ]
     },
     "metadata": {},
     "output_type": "display_data"
    }
   ],
   "source": [
    "def read_timeline(n):\n",
    "    filename = f'{n}x{n}_best_species_timeline.txt'\n",
    "    filepath = os.path.join('Data', filename)\n",
    "    with open(filepath, 'r') as f:\n",
    "        timeline = f.read()\n",
    "    return timeline\n",
    "\n",
    "def count_ones(matrix):\n",
    "    return np.sum(matrix)\n",
    "\n",
    "def get_unique_rotations(matrix):\n",
    "    rotations = []\n",
    "    for i in range(4):\n",
    "        rotated = np.rot90(matrix, i)\n",
    "        if not any(np.array_equal(rotated, r) for r in rotations):\n",
    "            rotations.append(rotated)\n",
    "    return rotations\n",
    "\n",
    "def parse_timeline(n):\n",
    "    timeline = read_timeline(n)\n",
    "\n",
    "    timeline = timeline.replace('[', '').replace(']', '').replace(',', '').replace('1.', '1').replace('0.', '0').replace(' ', '').replace('\\n', '')\n",
    "\n",
    "\n",
    "    # Split the timeline into distinct nxn numpy matrices\n",
    "\n",
    "    matrices = []\n",
    "    for i in range(len(timeline) // (n**2)):\n",
    "        matrix = np.zeros((n, n))\n",
    "        for j in range(n):\n",
    "            for k in range(n):\n",
    "                matrix[j][k] = int(timeline[i*n**2 + j*n + k])\n",
    "        matrices.append(matrix)\n",
    "\n",
    "    return matrices\n",
    "\n",
    "def visualize_boards(n):\n",
    "    matrices = parse_timeline(n)\n",
    "    max_ones = max(np.count_nonzero(matrix == 1) for matrix in matrices)\n",
    "\n",
    "    # Visualize the matrix with the most ones\n",
    "    for matrix in matrices:\n",
    "        if np.count_nonzero(matrix == 1) == max_ones:\n",
    "            flag, temp_matrix = is_isosceles(matrix)\n",
    "            if not flag:\n",
    "                plot_board(matrix)\n",
    "                break\n",
    "            else:\n",
    "                plot_board(temp_matrix)\n",
    "                \n",
    "\n",
    "\n",
    "\n",
    "\n",
    "# Example usage\n",
    "n = 10\n",
    "visualize_boards(n)\n"
   ]
  },
  {
   "cell_type": "code",
   "execution_count": null,
   "metadata": {},
   "outputs": [],
   "source": []
  }
 ],
 "metadata": {
  "kernelspec": {
   "display_name": "data-science",
   "language": "python",
   "name": "python3"
  },
  "language_info": {
   "codemirror_mode": {
    "name": "ipython",
    "version": 3
   },
   "file_extension": ".py",
   "mimetype": "text/x-python",
   "name": "python",
   "nbconvert_exporter": "python",
   "pygments_lexer": "ipython3",
   "version": "3.9.13"
  },
  "orig_nbformat": 4
 },
 "nbformat": 4,
 "nbformat_minor": 2
}
